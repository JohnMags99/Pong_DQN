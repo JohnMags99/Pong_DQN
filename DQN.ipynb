{
 "cells": [
  {
   "cell_type": "code",
   "execution_count": 100,
   "metadata": {},
   "outputs": [],
   "source": [
    "from gym.spaces import Box\n",
    "from gym import ObservationWrapper, Wrapper\n",
    "import gym\n",
    "import random\n",
    "import numpy as np\n",
    "import tensorflow as tf\n",
    "import cv2\n",
    "from keras.layers import Conv2D, Flatten\n",
    "import matplotlib.pyplot as plt\n",
    "class PreprocessImage(ObservationWrapper):\n",
    "    #TENSOR V1 was used for this process\n",
    "    def __init__(self, env):\n",
    "        ObservationWrapper.__init__(self, env)\n",
    "        self.img_size = (84,84)\n",
    "        self.observation_space = Box(0.0, 1.0, (self.img_size[0], self.img_size[1], 1))\n",
    "\n",
    "    #Take observation of image\n",
    "    def observation(self, img):\n",
    "        img = img[34:-16, :, :]\n",
    "        img = cv2.resize(img, self.img_size)\n",
    "        img = img.mean(-1, keepdims=True)\n",
    "        img = img.astype('float32') / 255.\n",
    "        return img\n",
    "class FrameBuffer(Wrapper):\n",
    "    def __init__(self, env, n_frames=4, dim_order ='tensorflow'):\n",
    "        super(FrameBuffer, self).__init__(env)\n",
    "        self.dim_order = dim_order\n",
    "        if dim_order == 'tensorflow':\n",
    "            height, width, n_channels = env.observation_space.shape\n",
    "            obs_shape = [height, width, n_channels * n_frames]\n",
    "        self.observation_space = Box(0.0, 1.0, obs_shape)\n",
    "        self.framebuffer = np.zeros(obs_shape, 'float32')\n",
    "\n",
    "    #Resets framebuffer\n",
    "    def reset(self):\n",
    "        self.framebuffer = np.zeros_like(self.framebuffer)\n",
    "        self.update_buffer(self.env.reset())\n",
    "        return self.framebuffer\n",
    "\n",
    "    def step(self, action):\n",
    "        #Play one step and update framebuffer\n",
    "        new_img, reward, done, info = self.env.step(action)\n",
    "        self.update_buffer(new_img)\n",
    "        return self.framebuffer, reward, done, info\n",
    "\n",
    "    #Updat frame buffer with next set of frames\n",
    "    def update_buffer(self, img):\n",
    "        if self.dim_order == 'tensorflow':\n",
    "            offset = self.env.observation_space.shape[-1]\n",
    "            axis = -1\n",
    "            cropped_framebuffer = self.framebuffer[:,:,:-offset]\n",
    "        self.framebuffer = np.concatenate([img, cropped_framebuffer], axis = axis)\n",
    "\n",
    "\n"
   ]
  },
  {
   "cell_type": "code",
   "execution_count": 101,
   "metadata": {
    "pycharm": {
     "name": "#%%\n"
    }
   },
   "outputs": [
    {
     "data": {
      "text/plain": "<Figure size 432x288 with 1 Axes>",
      "image/png": "[encoded data removed]"
     },
     "metadata": {
      "needs_background": "light"
     },
     "output_type": "display_data"
    },
    {
     "name": "stderr",
     "output_type": "stream",
     "text": [
      "c:\\users\\mikel\\pythonprojects\\pythonproject\\venv\\lib\\site-packages\\tensorflow\\python\\client\\session.py:1771: UserWarning: An interactive session is already active. This can cause out-of-memory errors in some cases. You must explicitly call `InteractiveSession.close()` to release resources held by the other session(s).\n",
      "  warnings.warn('An interactive session is already active. This can '\n"
     ]
    },
    {
     "data": {
      "text/plain": "<Figure size 432x288 with 1 Axes>",
      "image/png": "[encoded data removed]"
     },
     "metadata": {
      "needs_background": "light"
     },
     "output_type": "display_data"
    }
   ],
   "source": [
    "from tensorflow.python.keras.layers import MaxPooling2D\n",
    "from keras.layers import Dense\n",
    "from keras.models import Sequential\n",
    "import ffmpeg\n",
    "from pyvirtualdisplay import Display\n",
    "\n",
    "def make_env():\n",
    "    #Resize image and stack 4 image frames\n",
    "    env = gym.make(\"BreakoutDeterministic-v4\")\n",
    "    env = PreprocessImage(env)\n",
    "    env = FrameBuffer(env, n_frames=4, dim_order='tensorflow')\n",
    "    return env\n",
    "\n",
    "env = make_env()\n",
    "#env = gym.wrappers.Monitor(make_env(),directory=\"videos\",force=True)\n",
    "env.reset()\n",
    "n_actions = env.action_space.n\n",
    "state_dim = env.observation_space.shape\n",
    "\n",
    "for _ in range(50):\n",
    "    obs, _, _, _ = env.step(env.action_space.sample())\n",
    "\n",
    "\n",
    "plt.title(\"Game image\")\n",
    "plt.imshow(env.render(\"rgb_array\"))\n",
    "plt.show()\n",
    "plt.title(\"Agent observation (4 frames left to right)\")\n",
    "plt.imshow(obs.transpose([0,2,1]).reshape([state_dim[0],-1]));\n",
    "\n",
    "\n",
    "tf.compat.v1.reset_default_graph()\n",
    "session = tf.compat.v1.InteractiveSession()\n",
    "tf.compat.v1.disable_eager_execution()\n",
    "\n",
    "\n",
    "class DQN:\n",
    "    def __init__(self, name, state_shape, n_actions, epsilon=0, reuse=False):\n",
    "\n",
    "        #Model Structure\n",
    "        with tf.compat.v1.variable_scope(name, reuse=reuse):\n",
    "            self.model = Sequential()\n",
    "            self.model.add(Conv2D(32, 8, (4,4), activation='relu', padding='valid', input_shape=(state_shape)))\n",
    "            self.model.add(MaxPooling2D())\n",
    "            self.model.add(Conv2D(64, 4, (2,2), activation='relu', padding='valid'))\n",
    "            self.model.add(Conv2D(64, 3, (1,1), activation='relu', padding='valid'))\n",
    "            self.model.add(MaxPooling2D())\n",
    "            self.model.add(Flatten())\n",
    "            self.model.add(Dense(256, activation=\"elu\"))\n",
    "            self.model.add(Dense(n_actions, activation='linear'))\n",
    "            self.model.add(Dense(n_actions, activation='linear',kernel_initializer=tf.compat.v1.variance_scaling_initializer(scale=2)))\n",
    "\n",
    "            self.state_t = tf.compat.v1.placeholder('float32', [None,] + list(state_shape))\n",
    "            self.qvalues_t = self.get_tf_qvalues(self.state_t)\n",
    "\n",
    "        self.weights = tf.compat.v1.get_collection(tf.compat.v1.GraphKeys.TRAINABLE_VARIABLES, scope=name)\n",
    "        self.epsilon = epsilon\n",
    "\n",
    "    #Return Tensor style qvalues\n",
    "    def get_tf_qvalues(self, state_t):\n",
    "        qvalues = self.model(state_t)\n",
    "\n",
    "        assert tf.compat.v1.is_numeric_tensor(qvalues) and qvalues.shape.ndims == 2, \\\n",
    "            \"please return 2d tf tensor of qvalues [you got %s]\" % repr(qvalues)\n",
    "        assert int(qvalues.shape[1]) == n_actions\n",
    "\n",
    "        return qvalues\n",
    "\n",
    "    #return qvalues for next step\n",
    "    def get_qvalues(self, state_t):\n",
    "        session = tf.compat.v1.get_default_session()\n",
    "        return session.run(self.qvalues_t, {self.state_t: state_t})\n",
    "\n",
    "    #Return random sample of actions to take\n",
    "    def sample_actions(self, qvalues):\n",
    "        epsilon = self.epsilon\n",
    "        batch_size, n_actions = qvalues.shape\n",
    "        random_actions = np.random.choice(n_actions, size=batch_size)\n",
    "        best_actions = qvalues.argmax(axis=-1)\n",
    "        should_explore = np.random.choice([0, 1], batch_size, p = [1-epsilon, epsilon])\n",
    "        return np.where(should_explore, random_actions, best_actions)\n"
   ]
  },
  {
   "cell_type": "code",
   "execution_count": 102,
   "metadata": {
    "pycharm": {
     "name": "#%%\n"
    }
   },
   "outputs": [],
   "source": [
    "dqn_agent = DQN(\"dqn_agent\", state_dim, n_actions, epsilon=0.5)\n",
    "target_agent = DQN(\"target_agent\", state_dim, n_actions)\n",
    "session.run(tf.compat.v1.global_variables_initializer())"
   ]
  },
  {
   "cell_type": "code",
   "execution_count": 103,
   "metadata": {
    "pycharm": {
     "name": "#%%\n"
    }
   },
   "outputs": [],
   "source": [
    "#Training sequence to\n",
    "def train(env, agent, num_games=1, greedy=False, t_max=100):\n",
    "    rewards = []\n",
    "    s = env.reset()\n",
    "    for _ in range(num_games):\n",
    "        reward = 0\n",
    "        for _ in range(t_max):\n",
    "            qvalues = dqn_agent.get_qvalues([s])\n",
    "            env.render()\n",
    "            action = qvalues.argmax(axis=-1)[0] if greedy else agent.sample_actions(qvalues)[0]\n",
    "            s, r, done, _ = env.step(action)\n",
    "\n",
    "            reward+= r\n",
    "            if done:\n",
    "                s = env.reset()\n",
    "                break\n",
    "\n",
    "        rewards.append(reward)\n",
    "    return np.mean(rewards)"
   ]
  },
  {
   "cell_type": "code",
   "execution_count": 104,
   "metadata": {
    "pycharm": {
     "name": "#%%\n"
    }
   },
   "outputs": [],
   "source": [
    "# Captures any recent actions taken by agent\n",
    "class Replay(object):\n",
    "    def __init__(self, size):\n",
    "        self._storage = []\n",
    "        self._maxsize = size\n",
    "        self._next_idx = 0\n",
    "\n",
    "    def __len__(self):\n",
    "        return len(self._storage)\n",
    "\n",
    "    def add(self, obs_t, action, reward, obs_tp1, done):\n",
    "        data = (obs_t, action, reward, obs_tp1, done)\n",
    "\n",
    "        if self._next_idx >= len(self._storage):\n",
    "            self._storage.append(data)\n",
    "        else:\n",
    "            self._storage[self._next_idx] = data\n",
    "        self._next_idx = (self._next_idx + 1) % self._maxsize\n",
    "\n",
    "    #Records recent actions to their respective lists\n",
    "    def create_sample(self, idxes):\n",
    "        obses_t, actions, rewards, obses_tp1, dones = [], [], [], [], []\n",
    "        for i in idxes:\n",
    "            data = self._storage[i]\n",
    "            obs_t, action, reward, obs_tp1, done = data\n",
    "            obses_t.append(np.array(obs_t, copy=False))\n",
    "            actions.append(np.array(action, copy=False))\n",
    "            rewards.append(reward)\n",
    "            obses_tp1.append(np.array(obs_tp1, copy=False))\n",
    "            dones.append(done)\n",
    "\n",
    "        return np.array(obses_t), np.array(actions), np.array(rewards), np.array(obses_tp1), np.array(dones)\n",
    "\n",
    "    #Creates random sample out of batch of size 32\n",
    "    def random_sample(self, batch_size):\n",
    "        idxes = [random.randint(0, len(self._storage) - 1) for _ in range(batch_size)]\n",
    "        return self.create_sample(idxes)\n",
    "\n",
    "#Record agents actions for n_steps\n",
    "def record(dqn_agent, env, replay, n_steps=1):\n",
    "    s = env.framebuffer\n",
    "\n",
    "    reward = 0.0\n",
    "    for t in range(n_steps):\n",
    "        # Record State, Action, Reward, Next State, Action\n",
    "        qvalues = dqn_agent.get_qvalues([s])\n",
    "        action = dqn_agent.sample_actions(qvalues)[0]\n",
    "        next_s, r, done, _ = env.step(action)\n",
    "\n",
    "        replay.add(s, action, r, next_s, done)\n",
    "        reward += r\n",
    "        if done:\n",
    "            s = env.reset()\n",
    "        else:\n",
    "            s = next_s\n",
    "    #print('Run %d episodes'%(n_steps))\n",
    "    #print('Mean:', np.mean(reward))\n",
    "    return reward"
   ]
  },
  {
   "cell_type": "code",
   "execution_count": 105,
   "metadata": {
    "pycharm": {
     "name": "#%%\n"
    }
   },
   "outputs": [],
   "source": [
    "#Target network gets loaded with new weights during training\n",
    "def load_target_agent(dqn_agent, target_agent):\n",
    "    assigns = []\n",
    "    for w_agent, w_target in zip(dqn_agent.weights, target_agent.weights):\n",
    "        assigns.append(tf.compat.v1.assign(w_target, w_agent, validate_shape=True))\n",
    "    tf.compat.v1.get_default_session().run(assigns)\n",
    "\n",
    "#Create standard placeholders for (SARSA) elements\n",
    "obs_ph = tf.compat.v1.placeholder(tf.float32, shape=(None,) + state_dim)\n",
    "actions_ph = tf.compat.v1.placeholder(tf.int32, shape=[None])\n",
    "rewards_ph = tf.compat.v1.placeholder(tf.float32, shape=[None])\n",
    "next_obs_ph = tf.compat.v1.placeholder(tf.float32, shape=(None,) + state_dim)\n",
    "is_done_ph = tf.compat.v1.placeholder(tf.float32, shape=[None])\n",
    "\n",
    "is_not_done = 1 - is_done_ph\n",
    "gamma = 0.99\n",
    "\n",
    "#Calculate current and action Q-values\n",
    "current_qvalues = dqn_agent.get_tf_qvalues(obs_ph)\n",
    "current_action_qvalues = tf.reduce_sum(tf.one_hot(actions_ph, n_actions) * current_qvalues, axis=1)"
   ]
  },
  {
   "cell_type": "code",
   "execution_count": 106,
   "metadata": {
    "pycharm": {
     "name": "#%%\n"
    }
   },
   "outputs": [],
   "source": [
    "# compute q-values for NEXT states with target network\n",
    "next_qvalues_target =  target_agent.get_tf_qvalues(next_obs_ph)\n",
    "\n",
    "next_state_values_target = tf.compat.v1.reduce_max(next_qvalues_target, axis=-1)\n",
    "\n",
    "reference_qvalues = rewards_ph + gamma*next_state_values_target*is_not_done\n",
    "\n",
    "#Computing Loss using Adam optimizer\n",
    "td_loss = tf.compat.v1.reduce_mean(tf.compat.v1.losses.huber_loss(labels=reference_qvalues, predictions=current_action_qvalues))\n",
    "\n",
    "optimizer=tf.compat.v1.train.AdamOptimizer(1e-5)\n",
    "train_step = optimizer.minimize(td_loss, var_list=dqn_agent.weights)\n",
    "\n",
    "session.run(tf.compat.v1.global_variables_initializer())"
   ]
  },
  {
   "cell_type": "code",
   "execution_count": 107,
   "metadata": {
    "pycharm": {
     "name": "#%%\n"
    }
   },
   "outputs": [],
   "source": [
    "#Instantiating replay size of 70000\n",
    "exp_replay = Replay(70000)\n",
    "record(dqn_agent, env, exp_replay, n_steps=10000)\n",
    "\n",
    "# take a sample batch of observations from the buffer\n",
    "def sample_batch(exp_replay, batch_size):\n",
    "    obs_batch, act_batch, reward_batch, next_obs_batch, is_done_batch = exp_replay.random_sample(batch_size)\n",
    "    return {\n",
    "        obs_ph:obs_batch, actions_ph:act_batch, rewards_ph:reward_batch,\n",
    "        next_obs_ph:next_obs_batch, is_done_ph:is_done_batch\n",
    "    }"
   ]
  },
  {
   "cell_type": "code",
   "execution_count": 108,
   "metadata": {
    "pycharm": {
     "name": "#%%\n"
    }
   },
   "outputs": [],
   "source": [
    "from tqdm import trange\n",
    "from IPython.display import clear_output\n",
    "import matplotlib.pyplot as plt\n",
    "from pandas import DataFrame\n",
    "moving_average = lambda x, span, **kw: DataFrame({'x':np.asarray(x)}).x.ewm(span=span, **kw).mean().values\n",
    "%matplotlib inline\n",
    "\n",
    "mean_rw_history = []\n",
    "td_loss_history = []"
   ]
  },
  {
   "cell_type": "code",
   "execution_count": 109,
   "metadata": {
    "pycharm": {
     "name": "#%%\n"
    }
   },
   "outputs": [
    {
     "name": "stdout",
     "output_type": "stream",
     "text": [
      "buffer size = 70000, epsilon = 0.98019\n"
     ]
    },
    {
     "data": {
      "text/plain": "<Figure size 432x288 with 1 Axes>",
      "image/png": "[encoded data removed]"
     },
     "metadata": {
      "needs_background": "light"
     },
     "output_type": "display_data"
    },
    {
     "data": {
      "text/plain": "<Figure size 1800x288 with 1 Axes>",
      "image/png": "[encoded data removed]"
     },
     "metadata": {
      "needs_background": "light"
     },
     "output_type": "display_data"
    },
    {
     "name": "stderr",
     "output_type": "stream",
     "text": [
      "100%|██████████| 10000/10000 [33:44<00:00,  4.94it/s]\n"
     ]
    }
   ],
   "source": [
    "\n",
    "\n",
    "#Train for n amount of epochs\n",
    "dqn_agent.epsilon=1\n",
    "for i in trange(10000):\n",
    "\n",
    "    #Record training data\n",
    "    record(dqn_agent, env, exp_replay, 10)\n",
    "\n",
    "    # train the network\n",
    "    _, loss_t = session.run([train_step, td_loss], sample_batch(exp_replay, batch_size=32))\n",
    "    td_loss_history.append(loss_t)\n",
    "\n",
    "    # Adjust parameters during training stage\n",
    "    if i % 500 == 0:\n",
    "        load_target_agent(dqn_agent, target_agent)\n",
    "        # reduce epsilon in every iteration until it reaches 1%\n",
    "        dqn_agent.epsilon = max(dqn_agent.epsilon * 0.999, 0.01)\n",
    "    #vdisplay.stop()\n",
    "\n",
    "\n",
    "    if i % 2000 == 0:\n",
    "        dqn_agent.model.save_weights('\\dqn_model_atari_weights.h5')\n",
    "        mean_rw_history.append(train(make_env(), dqn_agent, num_games=3))\n",
    "\n",
    "    if i % 500 == 0:\n",
    "        # plot mean reward per game and TD loss history\n",
    "        clear_output(True)\n",
    "        print(\"buffer size = %i, epsilon = %.5f\" % (len(exp_replay), dqn_agent.epsilon))\n",
    "\n",
    "        plt.subplot(1,2,1)\n",
    "        plt.title(\"mean reward per game\")\n",
    "        plt.plot(mean_rw_history)\n",
    "        plt.grid()\n",
    "\n",
    "        assert not np.isnan(loss_t)\n",
    "        plt.figure(figsize=[25, ])\n",
    "        plt.subplot(1,2,2)\n",
    "        plt.title(\"TD loss history (moving average)\")\n",
    "        plt.plot(moving_average(np.array(td_loss_history), span=100, min_periods=100))\n",
    "        plt.grid()\n",
    "        plt.show()"
   ]
  },
  {
   "cell_type": "code",
   "execution_count": 110,
   "metadata": {
    "pycharm": {
     "name": "#%%\n"
    }
   },
   "outputs": [
    {
     "ename": "ValueError",
     "evalue": "You called `set_weights(weights)` on layer \"sequential\" with a weight list of length 27, but the layer was expecting 12 weights. Provided weights: \\dqn_model_atari_weights.h5...",
     "output_type": "error",
     "traceback": [
      "\u001B[1;31m---------------------------------------------------------------------------\u001B[0m",
      "\u001B[1;31mValueError\u001B[0m                                Traceback (most recent call last)",
      "\u001B[1;32m~\\AppData\\Local\\Temp/ipykernel_7052/829974437.py\u001B[0m in \u001B[0;36m<module>\u001B[1;34m\u001B[0m\n\u001B[0;32m      4\u001B[0m \u001B[1;31m#vdisplay = Display()\u001B[0m\u001B[1;33m\u001B[0m\u001B[1;33m\u001B[0m\u001B[0m\n\u001B[0;32m      5\u001B[0m \u001B[1;31m#vdisplay.start()\u001B[0m\u001B[1;33m\u001B[0m\u001B[1;33m\u001B[0m\u001B[0m\n\u001B[1;32m----> 6\u001B[1;33m \u001B[0mdqn_agent\u001B[0m\u001B[1;33m.\u001B[0m\u001B[0mmodel\u001B[0m\u001B[1;33m.\u001B[0m\u001B[0mset_weights\u001B[0m\u001B[1;33m(\u001B[0m\u001B[1;34m'\\dqn_model_atari_weights.h5'\u001B[0m\u001B[1;33m)\u001B[0m\u001B[1;33m\u001B[0m\u001B[0m\n\u001B[0m\u001B[0;32m      7\u001B[0m \u001B[0msessions\u001B[0m \u001B[1;33m=\u001B[0m \u001B[1;33m[\u001B[0m\u001B[0mtrain\u001B[0m\u001B[1;33m(\u001B[0m\u001B[0menv\u001B[0m\u001B[1;33m,\u001B[0m \u001B[0mdqn_agent\u001B[0m\u001B[1;33m,\u001B[0m \u001B[0mnum_games\u001B[0m\u001B[1;33m=\u001B[0m\u001B[1;36m1\u001B[0m\u001B[1;33m)\u001B[0m \u001B[1;32mfor\u001B[0m \u001B[0m_\u001B[0m \u001B[1;32min\u001B[0m \u001B[0mrange\u001B[0m\u001B[1;33m(\u001B[0m\u001B[1;36m1\u001B[0m\u001B[1;33m)\u001B[0m\u001B[1;33m]\u001B[0m\u001B[1;33m\u001B[0m\u001B[0m\n\u001B[0;32m      8\u001B[0m \u001B[1;31m#vdisplay.stop()\u001B[0m\u001B[1;33m\u001B[0m\u001B[1;33m\u001B[0m\u001B[0m\n",
      "\u001B[1;32mc:\\users\\mikel\\pythonprojects\\pythonproject\\venv\\lib\\site-packages\\keras\\engine\\base_layer_v1.py\u001B[0m in \u001B[0;36mset_weights\u001B[1;34m(self, weights)\u001B[0m\n\u001B[0;32m   1263\u001B[0m           \u001B[1;34m'with a weight list of length %s, but the layer was '\u001B[0m\u001B[1;33m\u001B[0m\u001B[0m\n\u001B[0;32m   1264\u001B[0m           \u001B[1;34m'expecting %s weights. Provided weights: %s...'\u001B[0m \u001B[1;33m%\u001B[0m\u001B[1;33m\u001B[0m\u001B[0m\n\u001B[1;32m-> 1265\u001B[1;33m           (self.name, len(weights), expected_num_weights, str(weights)[:50]))\n\u001B[0m\u001B[0;32m   1266\u001B[0m \u001B[1;33m\u001B[0m\u001B[0m\n\u001B[0;32m   1267\u001B[0m     \u001B[0mweight_index\u001B[0m \u001B[1;33m=\u001B[0m \u001B[1;36m0\u001B[0m\u001B[1;33m\u001B[0m\u001B[0m\n",
      "\u001B[1;31mValueError\u001B[0m: You called `set_weights(weights)` on layer \"sequential\" with a weight list of length 27, but the layer was expecting 12 weights. Provided weights: \\dqn_model_atari_weights.h5..."
     ]
    }
   ],
   "source": [
    "#Using python-display library to showcase play after training\n",
    "from pyvirtualdisplay import Display\n",
    "# Use of WSL to view live play\n",
    "#vdisplay = Display()\n",
    "#vdisplay.start()\n",
    "dqn_agent.model.set_weights('\\dqn_model_atari_weights.h5')\n",
    "sessions = [train(env, dqn_agent, num_games=1) for _ in range(1)]\n",
    "#vdisplay.stop()"
   ]
  },
  {
   "cell_type": "code",
   "execution_count": null,
   "outputs": [],
   "source": [],
   "metadata": {
    "collapsed": false,
    "pycharm": {
     "name": "#%%\n"
    }
   }
  }
 ],
 "metadata": {
  "kernelspec": {
   "display_name": "Python 3 (ipykernel)",
   "language": "python",
   "name": "python3"
  },
  "language_info": {
   "codemirror_mode": {
    "name": "ipython",
    "version": 3
   },
   "file_extension": ".py",
   "mimetype": "text/x-python",
   "name": "python",
   "nbconvert_exporter": "python",
   "pygments_lexer": "ipython3",
   "version": "3.7.0"
  }
 },
 "nbformat": 4,
 "nbformat_minor": 1
}