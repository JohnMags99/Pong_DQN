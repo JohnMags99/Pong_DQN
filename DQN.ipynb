{
 "cells": [
  {
   "cell_type": "code",
   "execution_count": 28,
   "metadata": {
    "collapsed": true
   },
   "outputs": [
    {
     "data": {
      "text/plain": "<Figure size 432x288 with 1 Axes>",
      "image/png": "[encoded data removed]"
     },
     "metadata": {
      "needs_background": "light"
     },
     "output_type": "display_data"
    },
    {
     "data": {
      "text/plain": "<Figure size 432x288 with 1 Axes>",
      "image/png": "[encoded data removed]"
     },
     "metadata": {
      "needs_background": "light"
     },
     "output_type": "display_data"
    }
   ],
   "source": [
    "from tensorflow._api.v2.compat.v1 import compat\n",
    "from gym.spaces import Box\n",
    "from gym import ObservationWrapper, Wrapper\n",
    "import gym\n",
    "import random\n",
    "import numpy as np\n",
    "import tensorflow as tf\n",
    "import cv2\n",
    "from keras.layers import Conv2D, Flatten\n",
    "import matplotlib.pyplot as plt\n",
    "\n",
    "env = gym.make('BreakoutDeterministic-v4')\n",
    "env.reset()\n",
    "n_actions = env.action_space.n\n",
    "state_dim = env.observation_space.shape\n",
    "\n",
    "for _ in range(50):\n",
    "    obs, _, _, _ = env.step(env.action_space.sample())\n",
    "\n",
    "\n",
    "plt.title(\"Game image\")\n",
    "plt.imshow(env.render(\"rgb_array\"))\n",
    "plt.show()\n",
    "plt.title(\"Agent observation (4 frames left to right)\")\n",
    "plt.imshow(obs.transpose([0,2,1]).reshape([state_dim[0],-1]));\n",
    "\n",
    "class PreprocessImage(ObservationWrapper):\n",
    "    def __init__(self, env):\n",
    "        ObservationWrapper.__init__(self, env)\n",
    "        self.img_size = (84,84)\n",
    "        self.observation_space = Box(0.0, 1.0, (self.img_size[0], self.img_size[1], 1))\n",
    "\n",
    "    def observation(self, img):\n",
    "        img = img[34:-16, :, :]\n",
    "        img - cv2.resize(img, self.img_size)\n",
    "        img = img.mean(-1, keepdims=True)\n",
    "        img = img.astype('float32') / 255.\n",
    "        return img\n",
    "\n",
    "class FrameBuffer(Wrapper):\n",
    "    def __init__(self, env, n_frames=4, dim_order ='tensorflow'):\n",
    "        super(FrameBuffer, self).__init__(env)\n",
    "        self.dim_order = dim_order\n",
    "        if dim_order == 'tensorflow':\n",
    "            height, width, n_channels = env.observation_space.shape\n",
    "            obs_shape = [height, width, n_channels * n_frames]\n",
    "        self.observation_space = Box(0.0, 1.0, obs_shape)\n",
    "        self.framebuffer = np.zeros(obs_shape, 'float32')\n",
    "\n",
    "    def reset(self):\n",
    "        self.framebuffer = np.zeros_like(self.framebuffer)\n",
    "        self.update_buffer(self.env.reset())\n",
    "        return self.framebuffer\n",
    "\n",
    "    def step(self, action):\n",
    "        \"\"\"plays breakout for 1 step, returns frame buffer\"\"\"\n",
    "        new_img, reward, done, info = self.env.step(action)\n",
    "        self.update_buffer(new_img)\n",
    "        return self.framebuffer, reward, done, info\n",
    "\n",
    "    def update_buffer(self, img):\n",
    "        if self.dim_order == 'tensorflow':\n",
    "            offset = self.env.observation_space.shape[-1]\n",
    "            axis = -1\n",
    "            cropped_framebuffer = self.framebuffer[:,:,:-offset]\n",
    "        self.framebuffer = np.concatenate([img, cropped_framebuffer], axis = axis)\n",
    "\n",
    "\n",
    "\n",
    "def Model(input_size):\n",
    "    model = tf.keras.Sequential()\n",
    "    ##model.add(Conv2D(32, 8, (4, 4), activation='relu', padding='valid', input_shape=(input_size, input_size, input_size), =))"
   ]
  },
  {
   "cell_type": "code",
   "execution_count": 29,
   "outputs": [],
   "source": [
    "from tensorflow.python.keras.layers import MaxPooling2D\n",
    "from keras.layers import Dense\n",
    "from keras.models import Sequential\n",
    "\n",
    "tf.compat.v1.reset_default_graph()\n",
    "session = tf.compat.v1.InteractiveSession()\n",
    "tf.compat.v1.disable_eager_execution()\n",
    "\n",
    "\n",
    "class DQN:\n",
    "    def __init__(self, name, state_shape, n_actions, epsilon=0):\n",
    "        self.model = Sequential()\n",
    "        self.model.add(Conv2D(32, 8, (4,4), activation='relu', padding='valid', input_shape=(state_shape)))\n",
    "        self.model.add(MaxPooling2D())\n",
    "        self.model.add(Conv2D(64, 4, (2,2), activation='relu', padding='valid'))\n",
    "        self.model.add(MaxPooling2D())\n",
    "        self.model.add(Conv2D(64, 3, (1,1), activation='relu', padding='valid'))\n",
    "        self.model.add(MaxPooling2D())\n",
    "        self.model.add(Flatten())\n",
    "        self.model.add(Dense(256, activation=\"elu\"))\n",
    "        self.model.add(Dense(n_actions, activation='linear'))\n",
    "        self.state_t = tf.compat.v1.placeholder('float32', [None,] + list(state_shape))\n",
    "        self.qvalues_t = self.get_tf_qvalues(self.state_t)\n",
    "        self.weights = tf.compat.v1.get_collection(tf.compat.v1.GraphKeys.TRAINABLE_VARIABLES, scope=name)\n",
    "        self.epsilon = epsilon\n",
    "\n",
    "    def get_tf_qvalues(self, state_t):\n",
    "        qvalues = self.model(state_t)\n",
    "\n",
    "        assert tf.compat.v1.is_numeric_tensor(qvalues) and qvalues.shape.ndims == 2, \\\n",
    "            \"please return 2d tf tensor of qvalues [you got %s]\" % repr(qvalues)\n",
    "        assert int(qvalues.shape[1]) == n_actions\n",
    "\n",
    "        return qvalues\n",
    "\n",
    "    def get_qvalues(self, state_t):\n",
    "        session = tf.compat.v1.get_default_session()\n",
    "        return session.run(self.qvalues_t, {self.state_t: state_t})\n",
    "\n",
    "    def sample_actions(self, qvalues):\n",
    "        epsilon = self.epsilon\n",
    "        batch_size, n_actions = qvalues.shape\n",
    "        random_actions = np.random.choice(n_actions, size=batch_size)\n",
    "        best_actions = qvalues.argmax(axis=-1)\n",
    "        should_explore = np.random.choice([0, 1], batch_size, p = [1-epsilon, epsilon])\n",
    "        return np.where(should_explore, random_actions, best_actions)\n"
   ],
   "metadata": {
    "collapsed": false,
    "pycharm": {
     "name": "#%%\n"
    }
   }
  },
  {
   "cell_type": "code",
   "execution_count": 30,
   "outputs": [],
   "source": [
    "dqn_agent = DQN(\"dqn_agent\", state_dim, n_actions, epsilon=0.5)\n",
    "session.run(tf.compat.v1.global_variables_initializer())"
   ],
   "metadata": {
    "collapsed": false,
    "pycharm": {
     "name": "#%%\n"
    }
   }
  },
  {
   "cell_type": "code",
   "execution_count": 30,
   "outputs": [],
   "source": [
    "def train(env, agent, num_games=1, greedy=False, t_max=100):\n",
    "    rewards = []\n",
    "    s = env.reset()\n",
    "    for _ in range(num_games):\n",
    "        reward = 0\n",
    "        for _ in range(t_max):\n",
    "            qvalues = dqn_agent.get_qvalues([s])\n",
    "            action = qvalues.argmax(axis=-1)[0] if greedy else agent.sample_actions(qvalues)[0]\n"
   ],
   "metadata": {
    "collapsed": false,
    "pycharm": {
     "name": "#%%\n"
    }
   }
  }
 ],
 "metadata": {
  "kernelspec": {
   "display_name": "Python 3",
   "language": "python",
   "name": "python3"
  },
  "language_info": {
   "codemirror_mode": {
    "name": "ipython",
    "version": 2
   },
   "file_extension": ".py",
   "mimetype": "text/x-python",
   "name": "python",
   "nbconvert_exporter": "python",
   "pygments_lexer": "ipython2",
   "version": "2.7.6"
  }
 },
 "nbformat": 4,
 "nbformat_minor": 0
}